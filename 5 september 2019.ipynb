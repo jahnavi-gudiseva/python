{
 "cells": [
  {
   "cell_type": "code",
   "execution_count": 4,
   "metadata": {},
   "outputs": [
    {
     "name": "stdout",
     "output_type": "stream",
     "text": [
      "19\n",
      "19\n"
     ]
    }
   ],
   "source": [
    "l=[1,2,3,5,8]\n",
    "s=0\n",
    "for i in l:\n",
    "    s=s+i\n",
    "print(s)\n",
    "print(sum(l))"
   ]
  },
  {
   "cell_type": "code",
   "execution_count": 18,
   "metadata": {},
   "outputs": [
    {
     "data": {
      "text/plain": [
       "['__add__',\n",
       " '__class__',\n",
       " '__contains__',\n",
       " '__delattr__',\n",
       " '__delitem__',\n",
       " '__dir__',\n",
       " '__doc__',\n",
       " '__eq__',\n",
       " '__format__',\n",
       " '__ge__',\n",
       " '__getattribute__',\n",
       " '__getitem__',\n",
       " '__gt__',\n",
       " '__hash__',\n",
       " '__iadd__',\n",
       " '__imul__',\n",
       " '__init__',\n",
       " '__init_subclass__',\n",
       " '__iter__',\n",
       " '__le__',\n",
       " '__len__',\n",
       " '__lt__',\n",
       " '__mul__',\n",
       " '__ne__',\n",
       " '__new__',\n",
       " '__reduce__',\n",
       " '__reduce_ex__',\n",
       " '__repr__',\n",
       " '__reversed__',\n",
       " '__rmul__',\n",
       " '__setattr__',\n",
       " '__setitem__',\n",
       " '__sizeof__',\n",
       " '__str__',\n",
       " '__subclasshook__',\n",
       " 'append',\n",
       " 'clear',\n",
       " 'copy',\n",
       " 'count',\n",
       " 'extend',\n",
       " 'index',\n",
       " 'insert',\n",
       " 'pop',\n",
       " 'remove',\n",
       " 'reverse',\n",
       " 'sort']"
      ]
     },
     "execution_count": 18,
     "metadata": {},
     "output_type": "execute_result"
    }
   ],
   "source": [
    "a=-2.2\n",
    "abs(a)\n",
    "round(a)\n",
    "b=[1,2,55,3,0]\n",
    "len(b)\n",
    "sum(b)\n",
    "chr(97)\n",
    "ord('A')\n",
    "bin(4)\n",
    "hex(15)\n",
    "sorted(b,reverse=True)\n",
    "max(b)\n",
    "min(b)\n",
    "max(b)\n",
    "b[1::2]\n",
    "dir(list)"
   ]
  },
  {
   "cell_type": "code",
   "execution_count": 21,
   "metadata": {},
   "outputs": [
    {
     "name": "stdout",
     "output_type": "stream",
     "text": [
      "[500, 200]\n"
     ]
    }
   ],
   "source": [
    "l=[]\n"
   ]
  },
  {
   "cell_type": "code",
   "execution_count": 22,
   "metadata": {},
   "outputs": [
    {
     "name": "stdout",
     "output_type": "stream",
     "text": [
      "[500, 200, 100, 200]\n"
     ]
    }
   ],
   "source": [
    "l.append(100)\n",
    "l.append(200)\n",
    "print(l)"
   ]
  },
  {
   "cell_type": "code",
   "execution_count": 24,
   "metadata": {},
   "outputs": [
    {
     "name": "stdout",
     "output_type": "stream",
     "text": [
      "[500, 200, 100, 200, [1, 2], [1, 2]]\n"
     ]
    }
   ],
   "source": [
    "l.append([1,2])\n",
    "print(l)"
   ]
  },
  {
   "cell_type": "code",
   "execution_count": 26,
   "metadata": {},
   "outputs": [
    {
     "name": "stdout",
     "output_type": "stream",
     "text": [
      "[500, 200, 100, 200, [1, 2], [1, 2], 1, 2]\n"
     ]
    }
   ],
   "source": [
    "l.extend([1,2])\n",
    "print(l)"
   ]
  },
  {
   "cell_type": "code",
   "execution_count": 35,
   "metadata": {},
   "outputs": [
    {
     "name": "stdout",
     "output_type": "stream",
     "text": [
      "enter namejaanu\n",
      "enter age18\n",
      "enter namethanmai\n",
      "enter age15\n",
      "enter nameprass\n",
      "enter age18\n",
      "['jaanu', 'thanmai', 'prass']\n",
      "['18', '15', '18']\n"
     ]
    }
   ],
   "source": [
    "name=[]\n",
    "age=[]\n",
    "for i in range(3):\n",
    "    a=input(\"enter name\")\n",
    "    name.append(a)\n",
    "    b=input(\"enter age\")\n",
    "    age.append(b)\n",
    "print(name)\n",
    "print(age)\n",
    "      \n",
    "    "
   ]
  },
  {
   "cell_type": "code",
   "execution_count": 45,
   "metadata": {},
   "outputs": [
    {
     "name": "stdout",
     "output_type": "stream",
     "text": [
      "[1, 2, 3, 4]\n",
      "[1, 2, 3]\n"
     ]
    }
   ],
   "source": [
    "l=[1,2,3,4]\n",
    "print(l)\n",
    "l.remove(4)\n",
    "print(l)"
   ]
  },
  {
   "cell_type": "code",
   "execution_count": 44,
   "metadata": {},
   "outputs": [
    {
     "data": {
      "text/plain": [
       "5"
      ]
     },
     "execution_count": 44,
     "metadata": {},
     "output_type": "execute_result"
    }
   ],
   "source": [
    "l=[1,2,1,4,5,5,5]\n",
    "l.count(5)\n",
    "l.index(5,5)"
   ]
  },
  {
   "cell_type": "code",
   "execution_count": 47,
   "metadata": {},
   "outputs": [
    {
     "name": "stdout",
     "output_type": "stream",
     "text": [
      "[1, 2, 3]\n",
      "[1, 2, 3]\n",
      "[1000, 2, 3]\n",
      "[1, 2, 3]\n"
     ]
    }
   ],
   "source": [
    "l=[1,2,3]\n",
    "a=l.copy()\n",
    "print(l)\n",
    "print(a)\n",
    "a[0]=1000\n",
    "print(a)\n",
    "print(l)"
   ]
  },
  {
   "cell_type": "markdown",
   "metadata": {},
   "source": [
    "# Tuple"
   ]
  },
  {
   "cell_type": "code",
   "execution_count": 49,
   "metadata": {},
   "outputs": [
    {
     "data": {
      "text/plain": [
       "0"
      ]
     },
     "execution_count": 49,
     "metadata": {},
     "output_type": "execute_result"
    }
   ],
   "source": [
    "t=(1,2,3)\n",
    "t[0:]\n",
    "sum(t)\n",
    "len(t)\n",
    "t.count(5)"
   ]
  },
  {
   "cell_type": "code",
   "execution_count": 50,
   "metadata": {},
   "outputs": [
    {
     "data": {
      "text/plain": [
       "['__add__',\n",
       " '__class__',\n",
       " '__contains__',\n",
       " '__delattr__',\n",
       " '__dir__',\n",
       " '__doc__',\n",
       " '__eq__',\n",
       " '__format__',\n",
       " '__ge__',\n",
       " '__getattribute__',\n",
       " '__getitem__',\n",
       " '__getnewargs__',\n",
       " '__gt__',\n",
       " '__hash__',\n",
       " '__init__',\n",
       " '__init_subclass__',\n",
       " '__iter__',\n",
       " '__le__',\n",
       " '__len__',\n",
       " '__lt__',\n",
       " '__mul__',\n",
       " '__ne__',\n",
       " '__new__',\n",
       " '__reduce__',\n",
       " '__reduce_ex__',\n",
       " '__repr__',\n",
       " '__rmul__',\n",
       " '__setattr__',\n",
       " '__sizeof__',\n",
       " '__str__',\n",
       " '__subclasshook__',\n",
       " 'count',\n",
       " 'index']"
      ]
     },
     "execution_count": 50,
     "metadata": {},
     "output_type": "execute_result"
    }
   ],
   "source": [
    "dir(tuple)"
   ]
  },
  {
   "cell_type": "code",
   "execution_count": 55,
   "metadata": {},
   "outputs": [
    {
     "data": {
      "text/plain": [
       "'89'"
      ]
     },
     "execution_count": 55,
     "metadata": {},
     "output_type": "execute_result"
    }
   ],
   "source": [
    "a=(\"jaanu\",\"89\")\n",
    "(name,number)=a\n",
    "number"
   ]
  },
  {
   "cell_type": "markdown",
   "metadata": {},
   "source": [
    "# dictionaries"
   ]
  },
  {
   "cell_type": "markdown",
   "metadata": {},
   "source": [
    "### {key:value,key 2:value2}\n",
    "# mutable\n"
   ]
  },
  {
   "cell_type": "code",
   "execution_count": 56,
   "metadata": {},
   "outputs": [
    {
     "data": {
      "text/plain": [
       "['__class__',\n",
       " '__contains__',\n",
       " '__delattr__',\n",
       " '__delitem__',\n",
       " '__dir__',\n",
       " '__doc__',\n",
       " '__eq__',\n",
       " '__format__',\n",
       " '__ge__',\n",
       " '__getattribute__',\n",
       " '__getitem__',\n",
       " '__gt__',\n",
       " '__hash__',\n",
       " '__init__',\n",
       " '__init_subclass__',\n",
       " '__iter__',\n",
       " '__le__',\n",
       " '__len__',\n",
       " '__lt__',\n",
       " '__ne__',\n",
       " '__new__',\n",
       " '__reduce__',\n",
       " '__reduce_ex__',\n",
       " '__repr__',\n",
       " '__setattr__',\n",
       " '__setitem__',\n",
       " '__sizeof__',\n",
       " '__str__',\n",
       " '__subclasshook__',\n",
       " 'clear',\n",
       " 'copy',\n",
       " 'fromkeys',\n",
       " 'get',\n",
       " 'items',\n",
       " 'keys',\n",
       " 'pop',\n",
       " 'popitem',\n",
       " 'setdefault',\n",
       " 'update',\n",
       " 'values']"
      ]
     },
     "execution_count": 56,
     "metadata": {},
     "output_type": "execute_result"
    }
   ],
   "source": [
    "dir(dict)"
   ]
  },
  {
   "cell_type": "code",
   "execution_count": 60,
   "metadata": {},
   "outputs": [
    {
     "data": {
      "text/plain": [
       "dict_values(['jaanu', '1210', 18])"
      ]
     },
     "execution_count": 60,
     "metadata": {},
     "output_type": "execute_result"
    }
   ],
   "source": [
    "d={\"name\":\"jaanu\",\"roll\":\"1210\",\"age\":18}\n",
    "d.values()\n",
    "d.values()"
   ]
  },
  {
   "cell_type": "code",
   "execution_count": 63,
   "metadata": {},
   "outputs": [
    {
     "data": {
      "text/plain": [
       "{'name': 'jaan', 'roll': '1210', 'age': 18, 'gender': 'f'}"
      ]
     },
     "execution_count": 63,
     "metadata": {},
     "output_type": "execute_result"
    }
   ],
   "source": [
    "d[\"gender\"]=\"f\"\n",
    "d"
   ]
  },
  {
   "cell_type": "code",
   "execution_count": 64,
   "metadata": {},
   "outputs": [
    {
     "data": {
      "text/plain": [
       "'f'"
      ]
     },
     "execution_count": 64,
     "metadata": {},
     "output_type": "execute_result"
    }
   ],
   "source": [
    "d.get(\"gender\")"
   ]
  },
  {
   "cell_type": "code",
   "execution_count": 2,
   "metadata": {},
   "outputs": [
    {
     "name": "stdout",
     "output_type": "stream",
     "text": [
      "54\n",
      "89\n",
      "it  is not between 20 and 50\n"
     ]
    }
   ],
   "source": [
    "## check whether the given number is in range or not\n",
    "## lb=lowerbound\n",
    "## ub=upperbound\n",
    "## lb=30,ub=50\n",
    "def ranges(n):\n",
    "    lb=int(input())\n",
    "    ub=int(input())\n",
    "    if(n>=lb and n<=ub):\n",
    "        print(\"it is between 20 and 50\")\n",
    "    else:\n",
    "        print(\"it  is not between 20 and 50\")\n",
    "ranges(10)\n",
    "  \n"
   ]
  },
  {
   "cell_type": "code",
   "execution_count": 13,
   "metadata": {},
   "outputs": [
    {
     "name": "stdout",
     "output_type": "stream",
     "text": [
      "enter number45\n",
      "2\n"
     ]
    },
    {
     "data": {
      "text/plain": [
       "2"
      ]
     },
     "execution_count": 13,
     "metadata": {},
     "output_type": "execute_result"
    }
   ],
   "source": [
    "# calculate the given number of digits\n",
    "## i/p:12345\n",
    "## o/p:5\n",
    "def count(n):\n",
    "    n=int(input(\"enter number\"))\n",
    "    count=0\n",
    "    while n>0:\n",
    "        n=n//10\n",
    "        count+=1\n",
    "    print(count)\n",
    "count(1234)\n",
    "#or\n",
    "len(str(34))"
   ]
  },
  {
   "cell_type": "code",
   "execution_count": 12,
   "metadata": {},
   "outputs": [
    {
     "name": "stdout",
     "output_type": "stream",
     "text": [
      "1992\n",
      "1996\n",
      "2000\n",
      "2004\n",
      "2008\n",
      "2012\n",
      "2016\n",
      "2020\n"
     ]
    }
   ],
   "source": [
    "# print the leap years within the given range\n",
    "#lowerbound=1990\n",
    "#upperbound=2020\n",
    "def year(a,b):\n",
    "    for i in range(a,b+1):\n",
    "        if(i%400==0)or (i%4==0 and i%100!=0):\n",
    "            print(i)\n",
    "year(1990,2020)"
   ]
  },
  {
   "cell_type": "code",
   "execution_count": 16,
   "metadata": {},
   "outputs": [
    {
     "data": {
      "text/plain": [
       "True"
      ]
     },
     "execution_count": 16,
     "metadata": {},
     "output_type": "execute_result"
    }
   ],
   "source": [
    "def isprime(n):\n",
    "    count=0\n",
    "    for i in range(2,n//2+1):\n",
    "        if(n%i==0):\n",
    "            count+=1\n",
    "    if count==0:\n",
    "        return True\n",
    "    else:\n",
    "        return False\n",
    "isprime(3)\n"
   ]
  },
  {
   "cell_type": "code",
   "execution_count": 21,
   "metadata": {},
   "outputs": [
    {
     "name": "stdout",
     "output_type": "stream",
     "text": [
      "2\n",
      "3\n",
      "5\n",
      "7\n",
      "11\n",
      "13\n",
      "17\n",
      "19\n",
      "23\n",
      "29\n",
      "31\n",
      "37\n",
      "41\n",
      "43\n",
      "47\n"
     ]
    }
   ],
   "source": [
    "def prime(lb,ub):\n",
    "    for i in range(lb,ub+1):\n",
    "        if isprime(i):\n",
    "            print(i)\n",
    "prime(2,50)\n",
    "        \n",
    "        \n",
    "\n",
    "        "
   ]
  },
  {
   "cell_type": "code",
   "execution_count": 30,
   "metadata": {},
   "outputs": [
    {
     "name": "stdout",
     "output_type": "stream",
     "text": [
      "one\n",
      "3\n",
      "false\n"
     ]
    }
   ],
   "source": [
    "# check if a given string equal to number\n",
    "def string(n):\n",
    "    a=input()\n",
    "    b=int(input())\n",
    "    if(len(str(a))==len(str(b))):\n",
    "        print(\"True\")\n",
    "    else:\n",
    "        print(\"false\")\n",
    "string(\"aliet\")"
   ]
  },
  {
   "cell_type": "code",
   "execution_count": 38,
   "metadata": {},
   "outputs": [
    {
     "ename": "IndentationError",
     "evalue": "expected an indented block (<ipython-input-38-53b3e2b42ae2>, line 6)",
     "output_type": "error",
     "traceback": [
      "\u001b[1;36m  File \u001b[1;32m\"<ipython-input-38-53b3e2b42ae2>\"\u001b[1;36m, line \u001b[1;32m6\u001b[0m\n\u001b[1;33m    if(n%i==0):\u001b[0m\n\u001b[1;37m     ^\u001b[0m\n\u001b[1;31mIndentationError\u001b[0m\u001b[1;31m:\u001b[0m expected an indented block\n"
     ]
    }
   ],
   "source": [
    "##perfect number\n",
    "def perfect(lb,ub):\n",
    "    sum1=0\n",
    "    for i in range(lb,ub+1):\n",
    "        for i in range(1,n):\n",
    "        if(n%i==0):\n",
    "            sum1=sum+1\n",
    "    if(sumi==n):\n",
    "        return true\n",
    "    else:\n",
    "        return false\n",
    "perfect(int(input))\n",
    "        \n",
    "    \n",
    "    "
   ]
  },
  {
   "cell_type": "code",
   "execution_count": 53,
   "metadata": {},
   "outputs": [],
   "source": [
    "# given two variables  if one of them is 10 or\n",
    "#their sum is equals to 10 return true\n",
    "#else return false\n",
    "def number(a,b,n):\n",
    "    #a=int(input())\n",
    "    #b=int(input())\n",
    "    if(a==10 or b==10 or a+b==10):\n",
    "        return True\n",
    "    else:\n",
    "        return False"
   ]
  },
  {
   "cell_type": "code",
   "execution_count": 54,
   "metadata": {},
   "outputs": [
    {
     "data": {
      "text/plain": [
       "False"
      ]
     },
     "execution_count": 54,
     "metadata": {},
     "output_type": "execute_result"
    }
   ],
   "source": [
    "number(9,5,7)"
   ]
  },
  {
   "cell_type": "code",
   "execution_count": 59,
   "metadata": {},
   "outputs": [
    {
     "name": "stdout",
     "output_type": "stream",
     "text": [
      "helloworld\n"
     ]
    }
   ],
   "source": [
    "str1=\"hello\"\n",
    "str2=\"world\"\n",
    "print(str1+str2)"
   ]
  },
  {
   "cell_type": "code",
   "execution_count": 80,
   "metadata": {},
   "outputs": [
    {
     "name": "stdout",
     "output_type": "stream",
     "text": [
      "[3, 4, 5, 6]\n",
      "6\n",
      "3\n",
      "6\n",
      "5\n"
     ]
    }
   ],
   "source": [
    "##li=[10,9,8,7,6]\n",
    "## sort the list in ascending order=[6,7,8,9,10]\n",
    "### maximum element in the list\n",
    "def list(li):\n",
    "    li.sort(reverse=False)\n",
    "    print(li)\n",
    "    print(max(li))\n",
    "    print(min(li))\n",
    "    print(li[-1])\n",
    "    print(li[-2])\n",
    "list([3,4,5,6])"
   ]
  },
  {
   "cell_type": "code",
   "execution_count": null,
   "metadata": {},
   "outputs": [],
   "source": [
    "def li():\n",
    "    li=[2,4,4,4,6,6,3]\n",
    "    l=[]\n",
    "    for i in li:\n",
    "        if i not in l:\n",
    "            l.append(i)\n",
    "            "
   ]
  }
 ],
 "metadata": {
  "kernelspec": {
   "display_name": "Python 3",
   "language": "python",
   "name": "python3"
  },
  "language_info": {
   "codemirror_mode": {
    "name": "ipython",
    "version": 3
   },
   "file_extension": ".py",
   "mimetype": "text/x-python",
   "name": "python",
   "nbconvert_exporter": "python",
   "pygments_lexer": "ipython3",
   "version": "3.6.5"
  }
 },
 "nbformat": 4,
 "nbformat_minor": 2
}
